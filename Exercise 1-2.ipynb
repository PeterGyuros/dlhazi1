{
 "cells": [
  {
   "cell_type": "markdown",
   "metadata": {},
   "source": [
    "# Deep Learning 1. hazi 1-2 feladat\n",
    "# Deep Learning homework project exercises 1 through 2\n",
    "\n",
    "First I import our necessary libraries"
   ]
  },
  {
   "cell_type": "code",
   "execution_count": null,
   "metadata": {},
   "outputs": [],
   "source": [
    "import cv2\n",
    "import numpy\n",
    "import math"
   ]
  },
  {
   "cell_type": "markdown",
   "metadata": {},
   "source": [
    "I read the images using CV2's imread() function. The function needs the filename (provided we placed in them in the same directory as the executable), and the 1 parameter which makes it interpret the image as RGB."
   ]
  },
  {
   "cell_type": "code",
   "execution_count": null,
   "metadata": {},
   "outputs": [],
   "source": [
    "img1=cv2.imread(\"1.jpg\",1)\n",
    "img2=cv2.imread(\"2.jpg\",1)\n",
    "img3=cv2.imread(\"3.jpg\",1)\n",
    "img4=cv2.imread(\"4.jpg\",1)\n",
    "img5=cv2.imread(\"5.jpg\",1)"
   ]
  },
  {
   "cell_type": "markdown",
   "metadata": {},
   "source": [
    "We have to split the images into separate RGB channels, and also display them. For this purpose I create an array which stores the images, and a for loop which displays and then splits the image into the required channels."
   ]
  },
  {
   "cell_type": "code",
   "execution_count": null,
   "metadata": {},
   "outputs": [],
   "source": [
    "image_array = [img1, img2, img3, img4, img5]\n",
    "ch_red=[]\n",
    "ch_green=[]\n",
    "ch_blue=[]\n",
    "\n",
    "i = 1\n",
    "\n",
    "for image in image_array:\n",
    "    cv2.imshow(\"kep\", image)\n",
    "    cv2.waitKey(100)\n",
    "    print(i, \". kep adatai:\")\n",
    "    print(image)\n",
    "    i = i+1\n",
    "    r, g , b = cv2.split(image)\n",
    "    ch_red.append(r)\n",
    "    ch_green.append(g)\n",
    "    ch_blue.append(b)\n",
    "    \n",
    "    cv2.destroyAllWindows"
   ]
  },
  {
   "cell_type": "markdown",
   "metadata": {},
   "source": [
    "Let's calculate the averages first. We have 128 by 128 matrices which we iterate through cell by cell using an embedded for loop. We add up the values of each matrix to the matrices storing their averages, then divide them by the number of images to get the average of the pixels."
   ]
  },
  {
   "cell_type": "code",
   "execution_count": null,
   "metadata": {},
   "outputs": [],
   "source": [
    "averages_of_red_pixels = numpy.zeros((128,128))\n",
    "averages_of_green_pixels = numpy.zeros((128,128))\n",
    "averages_of_blue_pixels = numpy.zeros((128,128))\n",
    "  \n",
    "for i in range(128):\n",
    "    for j in range(128):\n",
    "        for matrix in ch_red:\n",
    "           averages_of_red_pixels[i][j] = averages_of_red_pixels[i][j] + matrix[i][j]\n",
    "\n",
    "for i in range(128):\n",
    "    for j in range(128):\n",
    "        for matrix in ch_green:\n",
    "           averages_of_green_pixels[i][j] = averages_of_red_pixels[i][j]\n",
    "\n",
    "for i in range(128):\n",
    "    for j in range(128):\n",
    "        for matrix in ch_blue:\n",
    "           averages_of_blue_pixels[i][j] = averages_of_blue_pixels[i][j] + matrix[i][j]\n",
    "        \n",
    "#We divide the sums by the number of images (length of the images array)\n",
    "\n",
    "for i in range(128):\n",
    "    for j in range(128):\n",
    "        averages_of_red_pixels[i][j] = averages_of_red_pixels[i][j]/len(ch_red)\n",
    "        averages_of_green_pixels[i][j] = averages_of_red_pixels[i][j]/len(ch_green)\n",
    "        averages_of_blue_pixels[i][j] = averages_of_blue_pixels[i][j]/len(ch_blue)"
   ]
  },
  {
   "cell_type": "markdown",
   "metadata": {},
   "source": [
    "Let's continue with the deviances. Using the formula of deviance I created a very similar loop to the former, only with the appropriate calculations at their core."
   ]
  },
  {
   "cell_type": "code",
   "execution_count": null,
   "metadata": {},
   "outputs": [],
   "source": [
    "deviations_of_red_pixels = numpy.zeros((128,128))\n",
    "deviations_of_green_pixels = numpy.zeros((128,128))\n",
    "deviations_of_blue_pixels = numpy.zeros((128,128))\n",
    "\n",
    "for i in range(128):\n",
    "    for j in range(128):\n",
    "        for matrix in ch_red:\n",
    "           deviations_of_red_pixels[i][j] = (matrix[i][j] - averages_of_red_pixels[i][j])**2\n",
    "\n",
    "for i in range(128):\n",
    "    for j in range(128):\n",
    "        for matrix in ch_green:\n",
    "           deviations_of_green_pixels[i][j] = (matrix[i][j] - averages_of_green_pixels[i][j])**2\n",
    "\n",
    "for i in range(128):\n",
    "    for j in range(128):\n",
    "        for matrix in ch_blue:\n",
    "           deviations_of_blue_pixels[i][j] = (matrix[i][j] - averages_of_blue_pixels[i][j])**2\n",
    "\n",
    "#We divide by the number of images again and then take their square root, because the numbver we have so far are the square of the deviance.\n",
    "for i in range(128):\n",
    "    for j in range(128):\n",
    "        deviations_of_red_pixels[i][j] = math.sqrt(deviations_of_red_pixels[i][j]/len(ch_red))\n",
    "        deviations_of_green_pixels[i][j] = math.sqrt(deviations_of_red_pixels[i][j]/len(ch_green))\n",
    "        deviations_of_blue_pixels[i][j] = math.sqrt(deviations_of_blue_pixels[i][j]/len(ch_blue))"
   ]
  },
  {
   "cell_type": "markdown",
   "metadata": {},
   "source": [
    "Finally, let's create a dataset with an expected value of zero and deviance of one. To achieve this we subtract every value of the original matrices (which contain the intensity of the pixels) by the average of them (which in this case, equals the expected value). To get a deviance of 1 we divide all values by their deviance. I use the familiar for loops from above, with the appripriate operations."
   ]
  },
  {
   "cell_type": "code",
   "execution_count": null,
   "metadata": {},
   "outputs": [],
   "source": [
    "zero_one_deviations_of_red_pixels = numpy.zeros((128,128))\n",
    "zero_one_deviations_of_green_pixels = numpy.zeros((128,128))\n",
    "zero_one_deviations_of_blue_pixels = numpy.zeros((128,128))\n",
    "\n",
    "for i in range(128):\n",
    "    for j in range(128):\n",
    "        for matrix in ch_red:\n",
    "           matrix[i][j] = (matrix[i][j] - averages_of_red_pixels[i][j])/deviations_of_red_pixels[i][j] #hiba mert nem lehet infinityt integerre alakitani\n",
    "\n",
    "for i in range(128):\n",
    "    for j in range(128):\n",
    "        for matrix in ch_green:\n",
    "           matrix[i][j] = (matrix[i][j] - averages_of_green_pixels[i][j])/deviations_of_green_pixels[i][j]\n",
    "\n",
    "for i in range(128):\n",
    "    for j in range(128):\n",
    "        for matrix in ch_blue:\n",
    "           matrix[i][j] = (matrix[i][j] - averages_of_blue_pixels[i][j])/deviations_of_blue_pixels[i][j]"
   ]
  }
 ],
 "metadata": {
  "kernelspec": {
   "display_name": "Python 3",
   "language": "python",
   "name": "python3"
  },
  "language_info": {
   "codemirror_mode": {
    "name": "ipython",
    "version": 3
   },
   "file_extension": ".py",
   "mimetype": "text/x-python",
   "name": "python",
   "nbconvert_exporter": "python",
   "pygments_lexer": "ipython3",
   "version": "3.7.3"
  }
 },
 "nbformat": 4,
 "nbformat_minor": 2
}
